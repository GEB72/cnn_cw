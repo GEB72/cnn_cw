{
 "cells": [
  {
   "cell_type": "code",
   "execution_count": 92,
   "outputs": [],
   "source": [
    "from keras import Sequential\n",
    "from keras.datasets import mnist\n",
    "from keras.layers import Conv2D, MaxPooling2D, Flatten, Dense\n",
    "from keras.optimizers import SGD\n",
    "from keras.utils import to_categorical\n",
    "from numpy import mean, std\n",
    "from sklearn.model_selection import KFold\n",
    "from matplotlib import pyplot as plt"
   ],
   "metadata": {
    "collapsed": false
   }
  },
  {
   "cell_type": "code",
   "execution_count": 93,
   "outputs": [],
   "source": [
    "# normalises data to fit [0,1]\n",
    "def normalise(data):\n",
    "    return data.astype('float') / 255.0"
   ],
   "metadata": {
    "collapsed": false
   }
  },
  {
   "cell_type": "code",
   "execution_count": 94,
   "id": "a6bd217f-3821-417e-8b4a-7d24a4916b59",
   "metadata": {},
   "outputs": [],
   "source": [
    "def load_mnist():\n",
    "    # load mnist dataset\n",
    "    (train_x, train_y), (test_x, test_y) = mnist.load_data()\n",
    "\n",
    "    # reshape pixel-data arrays to contain only one colour channel\n",
    "    train_x = train_x.reshape((train_x.shape[0], 28, 28, 1))\n",
    "    test_x = test_x.reshape((test_x.shape[0], 28, 28, 1))\n",
    "\n",
    "    # normalise pixel-data\n",
    "    train_x = normalise(train_x)\n",
    "    test_y = normalise(train_y)\n",
    "\n",
    "    # transform labels to 10 dimension indicator vector\n",
    "    train_y = to_categorical(train_y)\n",
    "    test_y = to_categorical(test_y)\n",
    "\n",
    "    return train_x, train_y, test_x, test_y"
   ]
  },
  {
   "cell_type": "code",
   "execution_count": 95,
   "outputs": [],
   "source": [
    "def define_basic_model():\n",
    "    model = Sequential()\n",
    "    model.add(Conv2D(32, (3, 3),\n",
    "                     activation='relu',\n",
    "                     kernel_initializer='he_uniform',\n",
    "                     input_shape=(28, 28, 1)))\n",
    "    model.add(MaxPooling2D((2,2)))\n",
    "    model.add(Flatten())\n",
    "    model.add(Dense(100,\n",
    "                    activation='relu',\n",
    "                    kernel_initializer='he_uniform'))\n",
    "    model.add(Dense(10,\n",
    "                    activation='softmax'))\n",
    "    optimizer = SGD(learning_rate=.01, momentum=.9, )\n",
    "\n",
    "    model.compile(optimizer=optimizer, loss='categorical_crossentropy', metrics=['accuracy'])\n",
    "    return model"
   ],
   "metadata": {
    "collapsed": false
   }
  },
  {
   "cell_type": "code",
   "execution_count": 0,
   "outputs": [],
   "source": [
    "def evaluate_model(dataX, dataY, n_folds=5):\n",
    "     scores, histories = list(), list()\n",
    "     # prepare cross validation\n",
    "     kfold = KFold(n_folds, shuffle=True, random_state=1)\n",
    "     # enumerate splits\n",
    "     for train_ix, test_ix in kfold.split(dataX):\n",
    "         model = define_basic_model()\n",
    "         # select rows for train and test\n",
    "         trainX, trainY, testX, testY = dataX[train_ix], dataY[train_ix], dataX[test_ix], dataY[test_ix]\n",
    "         # fit model\n",
    "         history = model.fit(trainX, trainY, epochs=10, batch_size=32, validation_data=(testX, testY), verbose=0)\n",
    "         # evaluate model\n",
    "         _, acc = model.evaluate(testX, testY, verbose=0)\n",
    "         print('> %.3f' % (acc * 100.0))\n",
    "         # stores scores\n",
    "         scores.append(acc)\n",
    "         histories.append(history)\n",
    "     return scores, histories"
   ],
   "metadata": {
    "collapsed": false
   }
  },
  {
   "cell_type": "code",
   "execution_count": 101,
   "outputs": [],
   "source": [
    "def kfold_cross_validation(model, train_x, train_y, test_x, test_y):\n",
    "    # store histories (records of training losses during training) and accuracies (records of accuracy post training)\n",
    "    accuracies, histories = list(), list()\n",
    "\n",
    "    # split data into 5-fold cross-validation\n",
    "    kfold = KFold(5, shuffle=True, random_state=0)\n",
    "\n",
    "    for train_index, validation_index in kfold.split(train_x):\n",
    "        # split training data into respective train/validation folds\n",
    "        train_x_fold, train_y_fold = train_x[train_index], train_y[train_index]\n",
    "        validation_x_fold, validation_y_fold = train_x[validation_index], train_y[validation_index]\n",
    "\n",
    "        # train model and store history\n",
    "        history = model.fit(train_x_fold, train_y_fold,\n",
    "                            epochs=10,\n",
    "                            batchsize=32,\n",
    "                            validation_data=(validation_x_fold, validation_y_fold))\n",
    "        histories.append(history)\n",
    "\n",
    "        # evaluate model (ignore logs)\n",
    "        _, accuracy = model.evaluate(test_x, test_y)\n",
    "        accuracies.append(accuracy)\n",
    "        print(accuracy)\n",
    "    return accuracy, histories"
   ],
   "metadata": {
    "collapsed": false
   }
  },
  {
   "cell_type": "code",
   "execution_count": 97,
   "outputs": [],
   "source": [
    "def summarize_diagnostics(histories):\n",
    " for i in range(len(histories)):\n",
    "     # plot loss\n",
    "     plt.subplot(2, 1, 1)\n",
    "     plt.title('Cross Entropy Loss')\n",
    "     plt.plot(histories[i].history['loss'], color='blue', label='train')\n",
    "     plt.plot(histories[i].history['val_loss'], color='orange', label='test')\n",
    "     # plot accuracy\n",
    "     plt.subplot(2, 1, 2)\n",
    "     plt.title('Classification Accuracy')\n",
    "     plt.plot(histories[i].history['accuracy'], color='blue', label='train')\n",
    "     plt.plot(histories[i].history['val_accuracy'], color='orange', label='test')\n",
    "     plt.show()"
   ],
   "metadata": {
    "collapsed": false
   }
  },
  {
   "cell_type": "code",
   "execution_count": 98,
   "outputs": [],
   "source": [
    "def summarize_performance(scores):\n",
    " # print summary\n",
    " print('Accuracy: mean=%.3f std=%.3f, n=%d' % (mean(scores)*100, std(scores)*100, len(scores)))\n",
    " # box and whisker plots of results\n",
    " plt.boxplot(scores)\n",
    " plt.show()"
   ],
   "metadata": {
    "collapsed": false
   }
  },
  {
   "cell_type": "code",
   "execution_count": 99,
   "outputs": [],
   "source": [
    "def run_test_harness():\n",
    " # load dataset\n",
    " trainX, trainY, testX, testY = load_mnist()\n",
    " # prepare pixel data\n",
    " trainX, testX = normalise(trainX), normalise(trainY)\n",
    " # evaluate model\n",
    " model = define_basic_model()\n",
    " scores, histories = kfold_cross_validation(model, trainX, trainY, testX, testY)\n",
    " # learning curves\n",
    " summarize_diagnostics(histories)\n",
    " # summarize estimated performance\n",
    " summarize_performance(scores)"
   ],
   "metadata": {
    "collapsed": false
   }
  },
  {
   "cell_type": "code",
   "execution_count": null,
   "outputs": [],
   "source": [
    "run_test_harness()"
   ],
   "metadata": {
    "collapsed": false,
    "pycharm": {
     "is_executing": true
    }
   }
  },
  {
   "cell_type": "code",
   "execution_count": null,
   "outputs": [],
   "source": [],
   "metadata": {
    "collapsed": false
   }
  }
 ],
 "metadata": {
  "kernelspec": {
   "display_name": "cnn",
   "language": "python",
   "name": "cnn"
  },
  "language_info": {
   "codemirror_mode": {
    "name": "ipython",
    "version": 3
   },
   "file_extension": ".py",
   "mimetype": "text/x-python",
   "name": "python",
   "nbconvert_exporter": "python",
   "pygments_lexer": "ipython3",
   "version": "3.9.0"
  }
 },
 "nbformat": 4,
 "nbformat_minor": 5
}
